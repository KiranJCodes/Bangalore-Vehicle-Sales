{
 "cells": [
  {
   "cell_type": "code",
   "execution_count": 79,
   "id": "ebeaf442",
   "metadata": {},
   "outputs": [],
   "source": [
    "import pandas as pd\n",
    "import matplotlib.pyplot as plt\n",
    "import os\n",
    "import glob\n",
    "import re"
   ]
  },
  {
   "cell_type": "code",
   "execution_count": 77,
   "id": "61fdf284",
   "metadata": {},
   "outputs": [
    {
     "name": "stdout",
     "output_type": "stream",
     "text": [
      "Excel files found in the folder:\n",
      "APR22.xlsx\n",
      "APR23.xlsx\n",
      "AUG22.xlsx\n",
      "AUG23.xlsx\n",
      "DEC22.xlsx\n",
      "DEC23.xlsx\n",
      "FEB22.xlsx\n",
      "FEB23.xlsx\n",
      "JAN22.xlsx\n",
      "JAN23.xlsx\n",
      "JUL22.xlsx\n",
      "JUL23.xlsx\n",
      "JUNE22.xlsx\n",
      "JUNE23.xlsx\n",
      "MAR22.xlsx\n",
      "MAR23.xlsx\n",
      "MAY22.xlsx\n",
      "MAY23.xlsx\n",
      "NOV22.xlsx\n",
      "NOV23.xlsx\n",
      "OCT22.xlsx\n",
      "OCT23.xlsx\n",
      "SEP22.xlsx\n",
      "SEP23.xlsx\n",
      "24\n"
     ]
    }
   ],
   "source": [
    "def get_excel_files(folder_path):\n",
    "    os.chdir(folder_path)\n",
    "    excel_files = glob.glob(\"*.xlsx\")\n",
    "    return excel_files\n",
    "\n",
    "# Example usage:\n",
    "path = \"D:\\Desktop\\Bangalore Vehicle\" # Replace this with the path to your folder\n",
    "excelfiles = get_excel_files(path)\n",
    "\n",
    "# Print the list of Excel files\n",
    "print(\"Excel files found in the folder:\")\n",
    "for file in excelfiles:\n",
    "    print(file)\n",
    "print(len(excelfiles))"
   ]
  },
  {
   "cell_type": "code",
   "execution_count": 82,
   "id": "481f46cd",
   "metadata": {},
   "outputs": [
    {
     "name": "stdout",
     "output_type": "stream",
     "text": [
      "Sorted Excel files chronologically by month and year:\n",
      "APR22.xlsx\n",
      "APR23.xlsx\n",
      "AUG22.xlsx\n",
      "AUG23.xlsx\n",
      "DEC22.xlsx\n",
      "DEC23.xlsx\n",
      "FEB22.xlsx\n",
      "FEB23.xlsx\n",
      "JAN22.xlsx\n",
      "JAN23.xlsx\n",
      "JUL22.xlsx\n",
      "JUL23.xlsx\n",
      "JUNE22.xlsx\n",
      "JUNE23.xlsx\n",
      "MAR22.xlsx\n",
      "MAR23.xlsx\n",
      "MAY22.xlsx\n",
      "MAY23.xlsx\n",
      "NOV22.xlsx\n",
      "NOV23.xlsx\n",
      "OCT22.xlsx\n",
      "OCT23.xlsx\n",
      "SEP22.xlsx\n",
      "SEP23.xlsx\n"
     ]
    }
   ],
   "source": [
    "# Define a function to extract the month and year from the file name and format them as desired\n",
    "def extract_date(file_name):\n",
    "    match = re.match(r'([A-Z]+)(\\d+)\\.xlsx', file_name)\n",
    "    if match:\n",
    "        month_str, year_str = match.groups()\n",
    "        month = month_str[:3]  # Extract the first three characters of the month abbreviation\n",
    "        year = year_str\n",
    "        return f\"{month}{year}\"\n",
    "    else:\n",
    "        return ''\n",
    "\n",
    "# Sort the Excel files based on the formatted date\n",
    "sorted_excel_files = sorted(excelfiles, key=lambda x: extract_date(x))\n",
    "\n",
    "# Print the sorted list of Excel files\n",
    "print(\"Sorted Excel files chronologically by month and year:\")\n",
    "for file in sorted_excel_files:\n",
    "    print(file)"
   ]
  },
  {
   "cell_type": "code",
   "execution_count": 64,
   "id": "1cef2ea1",
   "metadata": {},
   "outputs": [],
   "source": [
    "# Cleaning\n",
    "\n",
    "#Segregate\n",
    "nontrans = data[4:12]\n",
    "trans = data[14:16]\n",
    "lgv = data[18:20]\n",
    "bus = data[21:22]\n",
    "taxies = data[24:27]\n",
    "lmv = data[29:31]\n",
    "\n",
    "# Add to array\n",
    "vehicles = [nontrans,trans,lgv,bus,\n",
    "           taxies,lmv]"
   ]
  },
  {
   "cell_type": "code",
   "execution_count": 65,
   "id": "60616994",
   "metadata": {},
   "outputs": [],
   "source": [
    "def clean(vehicle):\n",
    "    # Rename Them\n",
    "    data = vehicle\n",
    "    data.rename(columns={'Column2': 'Categories',\n",
    "                     'Column3': 'Sold so far',\n",
    "                     'Column4': 'Sold',\n",
    "                    'Column5': 'Total'}, inplace=True)\n",
    "    # delete things you don't need\n",
    "    data.drop(columns=['Column1'], inplace=True)\n",
    "    # delete NAN values\n",
    "    data.dropna(inplace=True)\n",
    "    \n",
    "    return data\n"
   ]
  },
  {
   "cell_type": "code",
   "execution_count": 66,
   "id": "2ed639e4",
   "metadata": {},
   "outputs": [],
   "source": [
    "def convert(vehicle):\n",
    "    data = vehicle\n",
    "    clmns = data.columns\n",
    "    clmns = list(clmns)\n",
    "    for i in clmns:\n",
    "        if i != 'Categories':\n",
    "            data[i] = data[i].astype(int)\n",
    "    return data"
   ]
  },
  {
   "cell_type": "code",
   "execution_count": 67,
   "id": "58018cc4",
   "metadata": {},
   "outputs": [
    {
     "name": "stderr",
     "output_type": "stream",
     "text": [
      "C:\\Users\\DAYDREAMER\\AppData\\Local\\Temp\\ipykernel_20060\\286425549.py:4: SettingWithCopyWarning: \n",
      "A value is trying to be set on a copy of a slice from a DataFrame\n",
      "\n",
      "See the caveats in the documentation: https://pandas.pydata.org/pandas-docs/stable/user_guide/indexing.html#returning-a-view-versus-a-copy\n",
      "  data.rename(columns={'Column2': 'Categories',\n",
      "C:\\Users\\DAYDREAMER\\AppData\\Local\\Temp\\ipykernel_20060\\286425549.py:9: SettingWithCopyWarning: \n",
      "A value is trying to be set on a copy of a slice from a DataFrame\n",
      "\n",
      "See the caveats in the documentation: https://pandas.pydata.org/pandas-docs/stable/user_guide/indexing.html#returning-a-view-versus-a-copy\n",
      "  data.drop(columns=['Column1'], inplace=True)\n",
      "C:\\Users\\DAYDREAMER\\AppData\\Local\\Temp\\ipykernel_20060\\286425549.py:11: SettingWithCopyWarning: \n",
      "A value is trying to be set on a copy of a slice from a DataFrame\n",
      "\n",
      "See the caveats in the documentation: https://pandas.pydata.org/pandas-docs/stable/user_guide/indexing.html#returning-a-view-versus-a-copy\n",
      "  data.dropna(inplace=True)\n",
      "C:\\Users\\DAYDREAMER\\AppData\\Local\\Temp\\ipykernel_20060\\3104289392.py:7: SettingWithCopyWarning: \n",
      "A value is trying to be set on a copy of a slice from a DataFrame.\n",
      "Try using .loc[row_indexer,col_indexer] = value instead\n",
      "\n",
      "See the caveats in the documentation: https://pandas.pydata.org/pandas-docs/stable/user_guide/indexing.html#returning-a-view-versus-a-copy\n",
      "  data[i] = data[i].astype(int)\n",
      "C:\\Users\\DAYDREAMER\\AppData\\Local\\Temp\\ipykernel_20060\\286425549.py:4: SettingWithCopyWarning: \n",
      "A value is trying to be set on a copy of a slice from a DataFrame\n",
      "\n",
      "See the caveats in the documentation: https://pandas.pydata.org/pandas-docs/stable/user_guide/indexing.html#returning-a-view-versus-a-copy\n",
      "  data.rename(columns={'Column2': 'Categories',\n",
      "C:\\Users\\DAYDREAMER\\AppData\\Local\\Temp\\ipykernel_20060\\286425549.py:9: SettingWithCopyWarning: \n",
      "A value is trying to be set on a copy of a slice from a DataFrame\n",
      "\n",
      "See the caveats in the documentation: https://pandas.pydata.org/pandas-docs/stable/user_guide/indexing.html#returning-a-view-versus-a-copy\n",
      "  data.drop(columns=['Column1'], inplace=True)\n",
      "C:\\Users\\DAYDREAMER\\AppData\\Local\\Temp\\ipykernel_20060\\286425549.py:11: SettingWithCopyWarning: \n",
      "A value is trying to be set on a copy of a slice from a DataFrame\n",
      "\n",
      "See the caveats in the documentation: https://pandas.pydata.org/pandas-docs/stable/user_guide/indexing.html#returning-a-view-versus-a-copy\n",
      "  data.dropna(inplace=True)\n",
      "C:\\Users\\DAYDREAMER\\AppData\\Local\\Temp\\ipykernel_20060\\3104289392.py:7: SettingWithCopyWarning: \n",
      "A value is trying to be set on a copy of a slice from a DataFrame.\n",
      "Try using .loc[row_indexer,col_indexer] = value instead\n",
      "\n",
      "See the caveats in the documentation: https://pandas.pydata.org/pandas-docs/stable/user_guide/indexing.html#returning-a-view-versus-a-copy\n",
      "  data[i] = data[i].astype(int)\n",
      "C:\\Users\\DAYDREAMER\\AppData\\Local\\Temp\\ipykernel_20060\\286425549.py:4: SettingWithCopyWarning: \n",
      "A value is trying to be set on a copy of a slice from a DataFrame\n",
      "\n",
      "See the caveats in the documentation: https://pandas.pydata.org/pandas-docs/stable/user_guide/indexing.html#returning-a-view-versus-a-copy\n",
      "  data.rename(columns={'Column2': 'Categories',\n",
      "C:\\Users\\DAYDREAMER\\AppData\\Local\\Temp\\ipykernel_20060\\286425549.py:9: SettingWithCopyWarning: \n",
      "A value is trying to be set on a copy of a slice from a DataFrame\n",
      "\n",
      "See the caveats in the documentation: https://pandas.pydata.org/pandas-docs/stable/user_guide/indexing.html#returning-a-view-versus-a-copy\n",
      "  data.drop(columns=['Column1'], inplace=True)\n",
      "C:\\Users\\DAYDREAMER\\AppData\\Local\\Temp\\ipykernel_20060\\286425549.py:11: SettingWithCopyWarning: \n",
      "A value is trying to be set on a copy of a slice from a DataFrame\n",
      "\n",
      "See the caveats in the documentation: https://pandas.pydata.org/pandas-docs/stable/user_guide/indexing.html#returning-a-view-versus-a-copy\n",
      "  data.dropna(inplace=True)\n",
      "C:\\Users\\DAYDREAMER\\AppData\\Local\\Temp\\ipykernel_20060\\3104289392.py:7: SettingWithCopyWarning: \n",
      "A value is trying to be set on a copy of a slice from a DataFrame.\n",
      "Try using .loc[row_indexer,col_indexer] = value instead\n",
      "\n",
      "See the caveats in the documentation: https://pandas.pydata.org/pandas-docs/stable/user_guide/indexing.html#returning-a-view-versus-a-copy\n",
      "  data[i] = data[i].astype(int)\n",
      "C:\\Users\\DAYDREAMER\\AppData\\Local\\Temp\\ipykernel_20060\\286425549.py:4: SettingWithCopyWarning: \n",
      "A value is trying to be set on a copy of a slice from a DataFrame\n",
      "\n",
      "See the caveats in the documentation: https://pandas.pydata.org/pandas-docs/stable/user_guide/indexing.html#returning-a-view-versus-a-copy\n",
      "  data.rename(columns={'Column2': 'Categories',\n",
      "C:\\Users\\DAYDREAMER\\AppData\\Local\\Temp\\ipykernel_20060\\286425549.py:9: SettingWithCopyWarning: \n",
      "A value is trying to be set on a copy of a slice from a DataFrame\n",
      "\n",
      "See the caveats in the documentation: https://pandas.pydata.org/pandas-docs/stable/user_guide/indexing.html#returning-a-view-versus-a-copy\n",
      "  data.drop(columns=['Column1'], inplace=True)\n",
      "C:\\Users\\DAYDREAMER\\AppData\\Local\\Temp\\ipykernel_20060\\286425549.py:11: SettingWithCopyWarning: \n",
      "A value is trying to be set on a copy of a slice from a DataFrame\n",
      "\n",
      "See the caveats in the documentation: https://pandas.pydata.org/pandas-docs/stable/user_guide/indexing.html#returning-a-view-versus-a-copy\n",
      "  data.dropna(inplace=True)\n",
      "C:\\Users\\DAYDREAMER\\AppData\\Local\\Temp\\ipykernel_20060\\3104289392.py:7: SettingWithCopyWarning: \n",
      "A value is trying to be set on a copy of a slice from a DataFrame.\n",
      "Try using .loc[row_indexer,col_indexer] = value instead\n",
      "\n",
      "See the caveats in the documentation: https://pandas.pydata.org/pandas-docs/stable/user_guide/indexing.html#returning-a-view-versus-a-copy\n",
      "  data[i] = data[i].astype(int)\n",
      "C:\\Users\\DAYDREAMER\\AppData\\Local\\Temp\\ipykernel_20060\\286425549.py:4: SettingWithCopyWarning: \n",
      "A value is trying to be set on a copy of a slice from a DataFrame\n",
      "\n",
      "See the caveats in the documentation: https://pandas.pydata.org/pandas-docs/stable/user_guide/indexing.html#returning-a-view-versus-a-copy\n",
      "  data.rename(columns={'Column2': 'Categories',\n",
      "C:\\Users\\DAYDREAMER\\AppData\\Local\\Temp\\ipykernel_20060\\286425549.py:9: SettingWithCopyWarning: \n",
      "A value is trying to be set on a copy of a slice from a DataFrame\n",
      "\n",
      "See the caveats in the documentation: https://pandas.pydata.org/pandas-docs/stable/user_guide/indexing.html#returning-a-view-versus-a-copy\n",
      "  data.drop(columns=['Column1'], inplace=True)\n",
      "C:\\Users\\DAYDREAMER\\AppData\\Local\\Temp\\ipykernel_20060\\286425549.py:11: SettingWithCopyWarning: \n",
      "A value is trying to be set on a copy of a slice from a DataFrame\n",
      "\n",
      "See the caveats in the documentation: https://pandas.pydata.org/pandas-docs/stable/user_guide/indexing.html#returning-a-view-versus-a-copy\n",
      "  data.dropna(inplace=True)\n",
      "C:\\Users\\DAYDREAMER\\AppData\\Local\\Temp\\ipykernel_20060\\3104289392.py:7: SettingWithCopyWarning: \n",
      "A value is trying to be set on a copy of a slice from a DataFrame.\n",
      "Try using .loc[row_indexer,col_indexer] = value instead\n",
      "\n",
      "See the caveats in the documentation: https://pandas.pydata.org/pandas-docs/stable/user_guide/indexing.html#returning-a-view-versus-a-copy\n",
      "  data[i] = data[i].astype(int)\n",
      "C:\\Users\\DAYDREAMER\\AppData\\Local\\Temp\\ipykernel_20060\\286425549.py:4: SettingWithCopyWarning: \n",
      "A value is trying to be set on a copy of a slice from a DataFrame\n",
      "\n",
      "See the caveats in the documentation: https://pandas.pydata.org/pandas-docs/stable/user_guide/indexing.html#returning-a-view-versus-a-copy\n",
      "  data.rename(columns={'Column2': 'Categories',\n",
      "C:\\Users\\DAYDREAMER\\AppData\\Local\\Temp\\ipykernel_20060\\286425549.py:9: SettingWithCopyWarning: \n",
      "A value is trying to be set on a copy of a slice from a DataFrame\n",
      "\n",
      "See the caveats in the documentation: https://pandas.pydata.org/pandas-docs/stable/user_guide/indexing.html#returning-a-view-versus-a-copy\n",
      "  data.drop(columns=['Column1'], inplace=True)\n",
      "C:\\Users\\DAYDREAMER\\AppData\\Local\\Temp\\ipykernel_20060\\286425549.py:11: SettingWithCopyWarning: \n",
      "A value is trying to be set on a copy of a slice from a DataFrame\n",
      "\n",
      "See the caveats in the documentation: https://pandas.pydata.org/pandas-docs/stable/user_guide/indexing.html#returning-a-view-versus-a-copy\n",
      "  data.dropna(inplace=True)\n",
      "C:\\Users\\DAYDREAMER\\AppData\\Local\\Temp\\ipykernel_20060\\3104289392.py:7: SettingWithCopyWarning: \n",
      "A value is trying to be set on a copy of a slice from a DataFrame.\n",
      "Try using .loc[row_indexer,col_indexer] = value instead\n",
      "\n",
      "See the caveats in the documentation: https://pandas.pydata.org/pandas-docs/stable/user_guide/indexing.html#returning-a-view-versus-a-copy\n",
      "  data[i] = data[i].astype(int)\n"
     ]
    }
   ],
   "source": [
    "for i in range(len(vehicles)):\n",
    "    vehicles[i] = clean(vehicles[i])\n",
    "    vehicles[i] = convert(vehicles[i])"
   ]
  },
  {
   "cell_type": "code",
   "execution_count": 54,
   "id": "cbf30697",
   "metadata": {},
   "outputs": [
    {
     "data": {
      "text/plain": [
       "['Categories', 'Sold so far', 'Sold', 'Total']"
      ]
     },
     "execution_count": 54,
     "metadata": {},
     "output_type": "execute_result"
    }
   ],
   "source": [
    "clmns = lgv.columns\n",
    "clmns = list(clmns)\n",
    "clmns"
   ]
  },
  {
   "cell_type": "code",
   "execution_count": 69,
   "id": "3f80ee59",
   "metadata": {},
   "outputs": [
    {
     "data": {
      "text/plain": [
       "Categories     object\n",
       "Sold so far     int32\n",
       "Sold            int32\n",
       "Total           int32\n",
       "dtype: object"
      ]
     },
     "execution_count": 69,
     "metadata": {},
     "output_type": "execute_result"
    }
   ],
   "source": [
    "taxies.dtypes"
   ]
  },
  {
   "cell_type": "code",
   "execution_count": null,
   "id": "e93e60cd",
   "metadata": {},
   "outputs": [],
   "source": []
  }
 ],
 "metadata": {
  "kernelspec": {
   "display_name": "Python 3 (ipykernel)",
   "language": "python",
   "name": "python3"
  },
  "language_info": {
   "codemirror_mode": {
    "name": "ipython",
    "version": 3
   },
   "file_extension": ".py",
   "mimetype": "text/x-python",
   "name": "python",
   "nbconvert_exporter": "python",
   "pygments_lexer": "ipython3",
   "version": "3.11.4"
  }
 },
 "nbformat": 4,
 "nbformat_minor": 5
}
