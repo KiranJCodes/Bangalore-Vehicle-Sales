{
 "cells": [
  {
   "cell_type": "code",
   "execution_count": null,
   "id": "ebeaf442",
   "metadata": {},
   "outputs": [],
   "source": [
    "import pandas as pd\n",
    "import matplotlib.pyplot as plt\n",
    "import os\n",
    "import glob\n",
    "import re"
   ]
  },
  {
   "cell_type": "code",
   "execution_count": null,
   "id": "e3d31e6a",
   "metadata": {},
   "outputs": [],
   "source": [
    "Months = []\n",
    "def get_excel_files(folder_path):\n",
    "    os.chdir(folder_path)\n",
    "    excel_files = glob.glob(\"*.xlsx\")\n",
    "    return excel_files\n",
    "\n",
    "# Example usage:\n",
    "path = \"D:\\Desktop\\Bangalore Vehicle\" # Replace this with the path to your folder\n",
    "excelfiles = get_excel_files(path)\n",
    "\n",
    "\n",
    "print(\"Excel files found in the folder:\")\n",
    "for file in excelfiles:\n",
    "    print(file)\n",
    "    month = file[7:12]  # Extract the month from the file name\n",
    "    Months.append(month)\n",
    "print(len(excelfiles))"
   ]
  },
  {
   "cell_type": "code",
   "execution_count": 178,
   "id": "6bd99d0f",
   "metadata": {},
   "outputs": [
    {
     "data": {
      "text/plain": [
       "'\\nnontrans = data[4:12]\\ntrans = data[14:16]\\nlgv = data[18:20]\\nbus = data[21:22]\\ntaxies = data[24:27]\\nlmv = data[29:31]\\n'"
      ]
     },
     "execution_count": 178,
     "metadata": {},
     "output_type": "execute_result"
    }
   ],
   "source": [
    "# Create ARRAYS\n",
    "Data = [] # All Consolated Data\n",
    "NONTRANS = [] \n",
    "TRANS = [] \n",
    "LGV = [] \n",
    "BUS = [] \n",
    "TAXI = [] \n",
    "LMV = [] \n",
    "\n",
    "\n",
    "'''\n",
    "nontrans = data[4:12]\n",
    "trans = data[14:16]\n",
    "lgv = data[18:20]\n",
    "bus = data[21:22]\n",
    "taxies = data[24:27]\n",
    "lmv = data[29:31]\n",
    "'''\n",
    "\n"
   ]
  },
  {
   "cell_type": "code",
   "execution_count": 179,
   "id": "0e761e18",
   "metadata": {},
   "outputs": [],
   "source": [
    "def Appendit(tables):\n",
    "    for x in range(len(tables)):\n",
    "        filepath = path+\"\\\\\"+tables\n",
    "        data = pd.read_excel(filepath)\n",
    "        data = clean(data)\n",
    "        Data.append(data)\n",
    "        NONTRANS.append(data[0:8])  \n",
    "        TRANS.append(data[10:12])\n",
    "        LGV.append(data[13:15])\n",
    "        BUS.append(data[16:17]) \n",
    "        TAXI.append(data[18:21]) \n",
    "        LMV.append(data[22:24])"
   ]
  },
  {
   "cell_type": "code",
   "execution_count": null,
   "id": "60616994",
   "metadata": {},
   "outputs": [],
   "source": [
    "def clean(vehicle):\n",
    "    # Rename Them\n",
    "    data = vehicle\n",
    "    data = data[4:]\n",
    "    data.rename(columns={'Column2': 'Categories',\n",
    "                     'Column3': 'Sold so far',\n",
    "                     'Column4': 'Sold',\n",
    "                    'Column5': 'Total'}, inplace=True)\n",
    "    # delete things you don't need\n",
    "    data.drop(columns=['Column1'], inplace=True)\n",
    "    # delete NAN values\n",
    "    data.dropna(inplace=True)\n",
    "    # Convert\n",
    "    \n",
    "    clmns = data.columns\n",
    "    clmns = list(clmns)\n",
    "    for i in clmns:\n",
    "        if i != 'Categories':\n",
    "            data[i] = data[i].astype(int)\n",
    "    \n",
    "    return data\n"
   ]
  },
  {
   "cell_type": "code",
   "execution_count": null,
   "id": "7662539e",
   "metadata": {},
   "outputs": [],
   "source": [
    "for i in excelfiles:\n",
    "    Appendit(i)"
   ]
  },
  {
   "cell_type": "code",
   "execution_count": null,
   "id": "1cef2ea1",
   "metadata": {},
   "outputs": [],
   "source": [
    "# Add to array\n",
    "vehicles = [NONTRANS,TRANS,LGV,BUS,\n",
    "           TAXI,LMV]"
   ]
  },
  {
   "cell_type": "code",
   "execution_count": null,
   "id": "cc51ffeb",
   "metadata": {},
   "outputs": [],
   "source": [
    "for i in range(len(vehicles)):\n",
    "    vehicles[i] = clean(vehicles[i])"
   ]
  },
  {
   "cell_type": "code",
   "execution_count": null,
   "id": "10f33736",
   "metadata": {},
   "outputs": [],
   "source": []
  }
 ],
 "metadata": {
  "kernelspec": {
   "display_name": "Python 3 (ipykernel)",
   "language": "python",
   "name": "python3"
  },
  "language_info": {
   "codemirror_mode": {
    "name": "ipython",
    "version": 3
   },
   "file_extension": ".py",
   "mimetype": "text/x-python",
   "name": "python",
   "nbconvert_exporter": "python",
   "pygments_lexer": "ipython3",
   "version": "3.11.4"
  }
 },
 "nbformat": 4,
 "nbformat_minor": 5
}
